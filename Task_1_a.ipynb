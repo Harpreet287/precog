{
 "cells": [
  {
   "cell_type": "code",
   "execution_count": 1,
   "id": "bc37aeda-9f05-4264-9e8b-92cc6dc41de8",
   "metadata": {},
   "outputs": [],
   "source": [
    "import gensim\n",
    "import logging\n",
    "from nltk.corpus import brown    "
   ]
  },
  {
   "cell_type": "code",
   "execution_count": null,
   "id": "c415f9a4-641c-45b0-9b4f-bd7d68a4cf2b",
   "metadata": {},
   "outputs": [],
   "source": [
    "sentences = brown.sents()\n",
    "model = gensim.models.Word2Vec(sentences, window=5, min_count=1, sg=1, workers=4)\n",
    "sentences"
   ]
  },
  {
   "cell_type": "code",
   "execution_count": null,
   "id": "0a20d4ee-997f-4e3e-87b3-852f95d54bb1",
   "metadata": {},
   "outputs": [],
   "source": [
    "model.build_vocab(sentences, progress_per=1000, update = True)"
   ]
  },
  {
   "cell_type": "code",
   "execution_count": null,
   "id": "26e7d6c7-ae24-407e-a88e-56b62e4ab028",
   "metadata": {},
   "outputs": [],
   "source": [
    "print(model.epochs, model.corpus_count, model.corpus_total_words)"
   ]
  },
  {
   "cell_type": "code",
   "execution_count": null,
   "id": "10564ca1-8fda-4d8c-80c2-230826e1a927",
   "metadata": {},
   "outputs": [],
   "source": [
    "model.epochs = 50\n",
    "model.train(sentences, epochs = model.epochs, total_words=model.corpus_total_words )"
   ]
  },
  {
   "cell_type": "code",
   "execution_count": null,
   "id": "793da078-879d-4acc-8043-5cbd89013bbb",
   "metadata": {},
   "outputs": [],
   "source": [
    "model.save('./important_task_a.model')\n"
   ]
  },
  {
   "cell_type": "code",
   "execution_count": null,
   "id": "2cd713f1-47c4-48ad-8ce8-33b972d9dcaf",
   "metadata": {},
   "outputs": [],
   "source": [
    "import pandas as pd"
   ]
  },
  {
   "cell_type": "code",
   "execution_count": null,
   "id": "6421af0e-48e2-4116-bec2-857ddf370798",
   "metadata": {},
   "outputs": [],
   "source": [
    "df = pd.read_csv('SimLex-999.txt', sep=\"\\t\", header=None)\n",
    "df.head()\n"
   ]
  },
  {
   "cell_type": "code",
   "execution_count": null,
   "id": "6668626d-74b3-4a1f-a894-69fad24a1eb5",
   "metadata": {},
   "outputs": [],
   "source": [
    "l1 = df.iloc[1:, 0].tolist()\n",
    "l2 = df.iloc[1:, 1].tolist()\n"
   ]
  },
  {
   "cell_type": "code",
   "execution_count": null,
   "id": "4cbef3c5-fdad-4a57-97bf-7ef1a17f3652",
   "metadata": {},
   "outputs": [],
   "source": [
    "l1_vector_embeddings = [model.wv.get_vector(c) for c in l1]\n"
   ]
  },
  {
   "cell_type": "code",
   "execution_count": null,
   "id": "f92aa898-cc18-4a36-86ff-f0729b23c4a0",
   "metadata": {},
   "outputs": [],
   "source": [
    "l_t = list(zip(l1, l2))  # Convert zip object to a list\n",
    "i = 0  \n",
    "while i < len(l_t):\n",
    "    word1, word2 = l_t[i]  \n",
    "    if word1 not in model.wv.key_to_index or word2 not in model.wv.key_to_index:\n",
    "        l_t.pop(i)  # Remove the word tuple from l_t\n",
    "    else:\n",
    "        i += 1  \n"
   ]
  },
  {
   "cell_type": "code",
   "execution_count": null,
   "id": "9792bec5-d53b-4739-a072-bed2901b6630",
   "metadata": {},
   "outputs": [],
   "source": [
    "l1 = [entry[0] for entry in l_t]\n",
    "\n",
    "l2 = [entry[1] for entry in l_t]\n",
    "\n",
    "print(l_t)"
   ]
  },
  {
   "cell_type": "code",
   "execution_count": null,
   "id": "39b94e9f-4f68-47d6-9a33-914c7d7cf047",
   "metadata": {},
   "outputs": [],
   "source": [
    "l1_embeddings = [model.wv.get_vector(c) for c in l1]"
   ]
  },
  {
   "cell_type": "code",
   "execution_count": null,
   "id": "40bdd372-9298-4351-a04f-1178ac742b8e",
   "metadata": {},
   "outputs": [],
   "source": [
    "l2_embeddings = [model.wv.get_vector(c) for c in l2]"
   ]
  },
  {
   "cell_type": "code",
   "execution_count": null,
   "id": "b5c195b4-49a6-4b80-94b3-db819dc73199",
   "metadata": {},
   "outputs": [],
   "source": [
    "\n",
    "l_cosine_similarity =[] \n",
    "for i in range(len(l1_embeddings)):\n",
    "    print(l1[i],[l2[i]])\n",
    "    l_cosine_similarity.append( model.wv.cosine_similarities(l1_embeddings[i],[l2_embeddings[i]] ))"
   ]
  },
  {
   "cell_type": "code",
   "execution_count": null,
   "id": "63fd8512-0e90-468d-b05d-2ceec032ba9d",
   "metadata": {},
   "outputs": [],
   "source": [
    "print(l_t)"
   ]
  },
  {
   "cell_type": "code",
   "execution_count": null,
   "id": "f5bb5854-02ab-43d7-9198-3b03678b431c",
   "metadata": {},
   "outputs": [],
   "source": [
    "lo = df.iloc[1:, 1].tolist()\n",
    "print(len(l_t), len(lo))\n"
   ]
  },
  {
   "cell_type": "markdown",
   "id": "c77e3128-9538-4d7b-8c37-ea7cafda6867",
   "metadata": {},
   "source": [
    "not a lot of loss of datapoints"
   ]
  },
  {
   "cell_type": "code",
   "execution_count": null,
   "id": "c11ff096-cbc2-4e1e-928f-08091280bae6",
   "metadata": {},
   "outputs": [],
   "source": [
    "rf = pd.read_csv('SimLex-999 2/refined.txt', sep = '\\t')\n",
    "rf.head()"
   ]
  },
  {
   "cell_type": "code",
   "execution_count": null,
   "id": "35a7c3dd-1389-4786-8ca6-1f3801f5991b",
   "metadata": {},
   "outputs": [],
   "source": [
    "pearson_val = model.wv.evaluate_word_pairs('SimLex-999 2/refined.txt')"
   ]
  },
  {
   "cell_type": "code",
   "execution_count": null,
   "id": "b8621da6-0fbf-43b9-b334-13c76bbdd4b4",
   "metadata": {},
   "outputs": [],
   "source": [
    "print(pearson_val)"
   ]
  },
  {
   "cell_type": "code",
   "execution_count": null,
   "id": "0795feca-43b2-4152-b084-191272f321a7",
   "metadata": {},
   "outputs": [],
   "source": []
  },
  {
   "cell_type": "code",
   "execution_count": null,
   "id": "a8ca6511-7299-4535-b484-b7aec8d1f848",
   "metadata": {},
   "outputs": [],
   "source": []
  }
 ],
 "metadata": {
  "kernelspec": {
   "display_name": "Python 3 (ipykernel)",
   "language": "python",
   "name": "python3"
  },
  "language_info": {
   "codemirror_mode": {
    "name": "ipython",
    "version": 3
   },
   "file_extension": ".py",
   "mimetype": "text/x-python",
   "name": "python",
   "nbconvert_exporter": "python",
   "pygments_lexer": "ipython3",
   "version": "3.10.10"
  }
 },
 "nbformat": 4,
 "nbformat_minor": 5
}
